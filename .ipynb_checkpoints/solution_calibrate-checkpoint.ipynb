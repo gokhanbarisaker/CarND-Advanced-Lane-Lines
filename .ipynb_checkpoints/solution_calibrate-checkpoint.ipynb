{
 "cells": [
  {
   "cell_type": "markdown",
   "metadata": {},
   "source": [
    "# Import dependencies"
   ]
  },
  {
   "cell_type": "code",
   "execution_count": 20,
   "metadata": {},
   "outputs": [],
   "source": [
    "import numpy as np\n",
    "import cv2\n",
    "import glob\n",
    "import matplotlib.pyplot as plt\n",
    "import pickle\n",
    "%matplotlib qt"
   ]
  },
  {
   "cell_type": "markdown",
   "metadata": {},
   "source": [
    "# Calibration functions\n",
    "\n",
    "## findPatterns(images, nx, ny) -> objectPoints, imagePoints\n",
    "\n",
    "TODO: Define function\n",
    "\n",
    "- images\n",
    "- nx\n",
    "- ny\n",
    "\n",
    "- objpoints\n",
    "- imgpoints\n",
    "\n",
    "\n",
    "## calibrate(image, objectPoints, imagePoints) -> mtx, dist\n",
    "\n",
    "TODO: Define function\n",
    "\n",
    "- image\n",
    "- objectPoints\n",
    "- imagePoints\n",
    "\n",
    "- mtx\n",
    "- dist\n",
    "\n",
    "\n",
    "## findPattern(image, nx, ny) -> found, chessboardCorners\n",
    "\n",
    "TODO: Define function\n",
    "\n",
    "- image\n",
    "- nx\n",
    "- ny\n",
    "\n",
    "- found\n",
    "- chessboardCorners\n",
    "\n",
    "\n",
    "## undistord(image, mtx, dist, newcameramtx) -> undistortedImage\n",
    "\n",
    "TODO: Define function\n",
    "\n",
    "- image\n",
    "- mtx\n",
    "- dist\n",
    "- newcameramtx\n",
    "\n",
    "- undistortedImage"
   ]
  },
  {
   "cell_type": "code",
   "execution_count": 24,
   "metadata": {},
   "outputs": [],
   "source": [
    "def findPattern(image, nx, ny):\n",
    "    grayscaleImage = cv2.cvtColor(image,cv2.COLOR_BGR2GRAY)\n",
    "\n",
    "    # Find the chessboard corners\n",
    "    ret, chessboardCorners = cv2.findChessboardCorners(grayscaleImage, (nx,ny),None)\n",
    "\n",
    "    # If found, add object points, image points\n",
    "    if ret == False:\n",
    "        return False, None\n",
    "    \n",
    "    ## termination criteria for corner sub fix\n",
    "    criteria = (cv2.TERM_CRITERIA_EPS + cv2.TERM_CRITERIA_MAX_ITER, 30, 0.001)\n",
    "    cv2.cornerSubPix(grayscaleImage,chessboardCorners,(11,11),(-1,-1),criteria)\n",
    "    return True, chessboardCorners\n",
    "\n",
    "def calibrate(image, objectPoints, imagePoints): \n",
    "    h,  w = image.shape[:2]\n",
    "    ret, mtx, dist, rvecs, tvecs = cv2.calibrateCamera(objectPoints, imagePoints, (w, h),None,None)\n",
    "    # newcameramtx, roi=cv2.getOptimalNewCameraMatrix(mtx,dist,(w,h),1,(w,h))\n",
    "    \n",
    "    return mtx, dist\n",
    "\n",
    "def undistord(image, mtx, dist, newcameramtx):\n",
    "    return cv2.undistort(image, mtx, dist, None, mtx)\n",
    "    \n",
    "def findPatterns(imagePaths, nx, ny):\n",
    "    # prepare object points, like (0,0,0), (1,0,0), (2,0,0) ....,(6,5,0)\n",
    "    objp = np.zeros((nx*ny,3), np.float32)\n",
    "    objp[:,:2] = np.mgrid[0:nx,0:ny].T.reshape(-1,2)\n",
    "\n",
    "    # Arrays to store object points and image points from all the images.\n",
    "    objectPoints = [] # 3d points in real world space\n",
    "    imagePoints = [] # 2d points in image plane.\n",
    "    \n",
    "    for imagePath in imagePaths:\n",
    "        image = cv2.imread(imagePath)\n",
    "        retval, chessboardCorners = findPattern(image, nx, ny)\n",
    "    \n",
    "        if retval == True:\n",
    "            objectPoints.append(objp)\n",
    "            imagePoints.append(chessboardCorners)\n",
    "        \n",
    "    return objectPoints, imagePoints"
   ]
  },
  {
   "cell_type": "markdown",
   "metadata": {},
   "source": [
    "# Calibrate camerate\n",
    "\n",
    "Calculates camera matrix and distortion coefficients for the given camera images"
   ]
  },
  {
   "cell_type": "code",
   "execution_count": 22,
   "metadata": {},
   "outputs": [],
   "source": [
    "def save_calibration_data(mtx, dist):\n",
    "    calibration_data = {\n",
    "        \"mtx\": mtx,\n",
    "        \"dist\": dist\n",
    "    }\n",
    "    \n",
    "    pickle.dump( calibration_data, open(\"calibration.p\", \"wb\"))\n",
    "\n",
    "# Make a list of calibration images\n",
    "imagePaths = glob.glob('./camera_cal/calibration*.jpg')\n",
    "\n",
    "# inner corners in x-direction\n",
    "nx = 9\n",
    "# inner corners in y-direction\n",
    "ny = 6\n",
    "objpoints, imgpoints = findPatterns(imagePaths, nx, ny)\n",
    "image = cv2.imread(imagePaths[0])\n",
    "mtx, dist = calibrate(image, objpoints, imgpoints)\n",
    "\n",
    "save_calibration_data(mtx, dist)"
   ]
  },
  {
   "cell_type": "markdown",
   "metadata": {},
   "source": [
    "# Debug calibration\n",
    "Displays calibrated images sequentially to the user"
   ]
  },
  {
   "cell_type": "code",
   "execution_count": 23,
   "metadata": {},
   "outputs": [],
   "source": [
    "def display(image):\n",
    "    cv2.imshow('img',image)\n",
    "    cv2.waitKey(500)\n",
    "\n",
    "# Make a list of calibration images\n",
    "images = glob.glob('./camera_cal/calibration*.jpg')\n",
    "# Read in the saved camera matrix and distortion coefficients\n",
    "# These are the arrays you calculated using cv2.calibrateCamera()\n",
    "distPickle = pickle.load( open( \"calibration.p\", \"rb\" ) )\n",
    "mtx = distPickle[\"mtx\"]\n",
    "dist = distPickle[\"dist\"]\n",
    "\n",
    "for fname in images:\n",
    "    image = cv2.imread(fname)\n",
    "    imageUndistorted = undistord(image, mtx, dist, mtx)\n",
    "    display(imageUndistorted)\n",
    "        \n",
    "cv2.destroyAllWindows()"
   ]
  },
  {
   "cell_type": "markdown",
   "metadata": {},
   "source": [
    "# Generate sample\n",
    "\n",
    "Generates input and output images for the calibration pipeline"
   ]
  },
  {
   "cell_type": "code",
   "execution_count": 19,
   "metadata": {},
   "outputs": [],
   "source": [
    "def outputPaths(index):\n",
    "    pathPattern = './solution_output/calibration_images/{}{:02d}.jpg'\n",
    "    \n",
    "    return (\n",
    "        pathPattern.format(\"input\", index),\n",
    "        pathPattern.format(\"output\", index)\n",
    "    )\n",
    "\n",
    "\n",
    "# Make a list of calibration images\n",
    "images = glob.glob('./camera_cal/calibration*.jpg')\n",
    "# Read in the saved camera matrix and distortion coefficients\n",
    "# These are the arrays you calculated using cv2.calibrateCamera()\n",
    "distPickle = pickle.load( open( \"calibration.p\", \"rb\" ) )\n",
    "mtx = distPickle[\"mtx\"]\n",
    "dist = distPickle[\"dist\"]\n",
    "\n",
    "for i in range(len(images)):\n",
    "    image = cv2.imread(images[i])\n",
    "    imageUndistorted = undistord(image, mtx, dist, mtx)\n",
    "    inputPath, outputPath = outputPaths(i)\n",
    "    cv2.imwrite(inputPath,image)\n",
    "    cv2.imwrite(outputPath,imageUndistorted)\n",
    "    "
   ]
  }
 ],
 "metadata": {
  "kernelspec": {
   "display_name": "Python 3",
   "language": "python",
   "name": "python3"
  },
  "language_info": {
   "codemirror_mode": {
    "name": "ipython",
    "version": 3
   },
   "file_extension": ".py",
   "mimetype": "text/x-python",
   "name": "python",
   "nbconvert_exporter": "python",
   "pygments_lexer": "ipython3",
   "version": "3.5.2"
  },
  "widgets": {
   "state": {},
   "version": "1.1.2"
  }
 },
 "nbformat": 4,
 "nbformat_minor": 2
}
